{
 "cells": [
  {
   "cell_type": "code",
   "execution_count": 1,
   "id": "5a621387",
   "metadata": {},
   "outputs": [
    {
     "data": {
      "text/plain": [
       "(80, 80, 80)"
      ]
     },
     "execution_count": 1,
     "metadata": {},
     "output_type": "execute_result"
    }
   ],
   "source": [
    "import json\n",
    "import os\n",
    "json_path='./ProstateSlice.json'\n",
    "with open(json_path, 'r', encoding='utf-8') as f:\n",
    "    data = json.load(f)\n",
    "len(data['gemini']['prostate']),len(data['GPT5']['prostate']),len(data['DeepSeek']['prostate'])"
   ]
  },
  {
   "cell_type": "code",
   "execution_count": 2,
   "id": "65d2ce21",
   "metadata": {},
   "outputs": [
    {
     "data": {
      "text/plain": [
       "(80, 80, 80)"
      ]
     },
     "execution_count": 2,
     "metadata": {},
     "output_type": "execute_result"
    }
   ],
   "source": [
    "len(data['gemini']['style']),len(data['GPT5']['style']),len(data['DeepSeek']['style'])"
   ]
  },
  {
   "cell_type": "code",
   "execution_count": 18,
   "id": "60477018",
   "metadata": {},
   "outputs": [
    {
     "data": {
      "text/plain": [
       "(80, 80, 80)"
      ]
     },
     "execution_count": 18,
     "metadata": {},
     "output_type": "execute_result"
    }
   ],
   "source": [
    "json_path='./mnms.json'\n",
    "with open(json_path, 'r', encoding='utf-8') as f:\n",
    "    data = json.load(f)\n",
    "len(data['gemini']['left ventricle (LV)']),len(data['GPT5']['left ventricle (LV)']),len(data['DeepSeek']['left ventricle (LV)'])"
   ]
  },
  {
   "cell_type": "code",
   "execution_count": 19,
   "id": "c1a1e5ef",
   "metadata": {},
   "outputs": [
    {
     "data": {
      "text/plain": [
       "(80, 80, 80)"
      ]
     },
     "execution_count": 19,
     "metadata": {},
     "output_type": "execute_result"
    }
   ],
   "source": [
    "len(data['gemini']['left ventricle myocardium (MYO)']),len(data['GPT5']['left ventricle myocardium (MYO)']),len(data['DeepSeek']['left ventricle myocardium (MYO)'])"
   ]
  },
  {
   "cell_type": "code",
   "execution_count": 20,
   "id": "ba2ac15e",
   "metadata": {},
   "outputs": [
    {
     "data": {
      "text/plain": [
       "(80, 80, 80)"
      ]
     },
     "execution_count": 20,
     "metadata": {},
     "output_type": "execute_result"
    }
   ],
   "source": [
    "len(data['gemini']['right ventricle (RV)']),len(data['GPT5']['right ventricle (RV)']),len(data['DeepSeek']['right ventricle (RV)'])"
   ]
  },
  {
   "cell_type": "code",
   "execution_count": 21,
   "id": "8620aa98",
   "metadata": {},
   "outputs": [
    {
     "data": {
      "text/plain": [
       "(80, 80, 80)"
      ]
     },
     "execution_count": 21,
     "metadata": {},
     "output_type": "execute_result"
    }
   ],
   "source": [
    "len(data['gemini']['style']),len(data['GPT5']['style']),len(data['DeepSeek']['style'])"
   ]
  },
  {
   "cell_type": "code",
   "execution_count": 31,
   "id": "ec8af725",
   "metadata": {},
   "outputs": [
    {
     "data": {
      "text/plain": [
       "(80, 80, 80)"
      ]
     },
     "execution_count": 31,
     "metadata": {},
     "output_type": "execute_result"
    }
   ],
   "source": [
    "json_path='./Fundus.json'\n",
    "with open(json_path, 'r', encoding='utf-8') as f:\n",
    "    data = json.load(f)\n",
    "len(data['gemini']['cup']),len(data['GPT5']['cup']),len(data['DeepSeek']['cup'])"
   ]
  },
  {
   "cell_type": "code",
   "execution_count": 32,
   "id": "4fb527ad",
   "metadata": {},
   "outputs": [
    {
     "data": {
      "text/plain": [
       "(80, 80, 80)"
      ]
     },
     "execution_count": 32,
     "metadata": {},
     "output_type": "execute_result"
    }
   ],
   "source": [
    "len(data['gemini']['disc']),len(data['GPT5']['disc']),len(data['DeepSeek']['disc'])"
   ]
  },
  {
   "cell_type": "code",
   "execution_count": 33,
   "id": "2ad15f7d",
   "metadata": {},
   "outputs": [
    {
     "data": {
      "text/plain": [
       "(80, 80, 80)"
      ]
     },
     "execution_count": 33,
     "metadata": {},
     "output_type": "execute_result"
    }
   ],
   "source": [
    "len(data['gemini']['style']),len(data['GPT5']['style']),len(data['DeepSeek']['style'])"
   ]
  },
  {
   "cell_type": "code",
   "execution_count": 37,
   "id": "fd95bab5",
   "metadata": {},
   "outputs": [
    {
     "data": {
      "text/plain": [
       "(80, 80, 80)"
      ]
     },
     "execution_count": 37,
     "metadata": {},
     "output_type": "execute_result"
    }
   ],
   "source": [
    "json_path='./BUSI.json'\n",
    "with open(json_path, 'r', encoding='utf-8') as f:\n",
    "    data = json.load(f)\n",
    "len(data['gemini']['breast tumor']),len(data['GPT5']['breast tumor']),len(data['DeepSeek']['breast tumor'])"
   ]
  },
  {
   "cell_type": "code",
   "execution_count": 38,
   "id": "062dc7d4",
   "metadata": {},
   "outputs": [
    {
     "data": {
      "text/plain": [
       "(80, 80, 80)"
      ]
     },
     "execution_count": 38,
     "metadata": {},
     "output_type": "execute_result"
    }
   ],
   "source": [
    "len(data['gemini']['style']),len(data['GPT5']['style']),len(data['DeepSeek']['style'])"
   ]
  },
  {
   "cell_type": "code",
   "execution_count": null,
   "id": "76f0f265",
   "metadata": {},
   "outputs": [],
   "source": []
  }
 ],
 "metadata": {
  "kernelspec": {
   "display_name": "mixsemi",
   "language": "python",
   "name": "python3"
  },
  "language_info": {
   "codemirror_mode": {
    "name": "ipython",
    "version": 3
   },
   "file_extension": ".py",
   "mimetype": "text/x-python",
   "name": "python",
   "nbconvert_exporter": "python",
   "pygments_lexer": "ipython3",
   "version": "3.12.11"
  }
 },
 "nbformat": 4,
 "nbformat_minor": 5
}
